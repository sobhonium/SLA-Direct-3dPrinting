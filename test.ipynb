{
 "cells": [
  {
   "cell_type": "code",
   "execution_count": 1,
   "id": "a677dd03",
   "metadata": {},
   "outputs": [],
   "source": [
    "import numpy as np\n",
    "from PIL import Image"
   ]
  },
  {
   "cell_type": "code",
   "execution_count": null,
   "id": "30a389a1",
   "metadata": {},
   "outputs": [],
   "source": []
  },
  {
   "cell_type": "code",
   "execution_count": 2,
   "id": "ae59aded",
   "metadata": {},
   "outputs": [],
   "source": [
    "######################################################3"
   ]
  },
  {
   "cell_type": "code",
   "execution_count": 3,
   "id": "6bc1db2d",
   "metadata": {},
   "outputs": [],
   "source": [
    "from utils.utils import int_tostring"
   ]
  },
  {
   "cell_type": "code",
   "execution_count": 4,
   "id": "d6ef792a",
   "metadata": {},
   "outputs": [
    {
     "data": {
      "text/plain": [
       "('0574', '0000574')"
      ]
     },
     "execution_count": 4,
     "metadata": {},
     "output_type": "execute_result"
    }
   ],
   "source": [
    "int_tostring(574, 4), int_tostring(574, 7)"
   ]
  },
  {
   "cell_type": "code",
   "execution_count": null,
   "id": "50b153f7",
   "metadata": {},
   "outputs": [],
   "source": []
  },
  {
   "cell_type": "code",
   "execution_count": 7,
   "id": "cd3e09cc",
   "metadata": {},
   "outputs": [],
   "source": [
    "# from itertools import product"
   ]
  },
  {
   "cell_type": "code",
   "execution_count": 9,
   "id": "9ef0ff12",
   "metadata": {},
   "outputs": [],
   "source": [
    "box_siz = 101 # should be an odd number"
   ]
  },
  {
   "cell_type": "code",
   "execution_count": 10,
   "id": "e8e4b974",
   "metadata": {},
   "outputs": [],
   "source": [
    "# [i for i in range(0-box_siz//2, 0+box_siz//2+1)]"
   ]
  },
  {
   "cell_type": "code",
   "execution_count": 11,
   "id": "ae7e2d96",
   "metadata": {},
   "outputs": [],
   "source": [
    "def sphere(point):\n",
    "    '''a helper function to test sdf'''\n",
    "    x, y, z = point\n",
    "    r = 5\n",
    "    return (x-r)**2+(y-r)**2+(z-r)**2 - (r)**2"
   ]
  },
  {
   "cell_type": "code",
   "execution_count": null,
   "id": "d464e60a",
   "metadata": {},
   "outputs": [],
   "source": []
  },
  {
   "cell_type": "code",
   "execution_count": 12,
   "id": "62dcea7c",
   "metadata": {},
   "outputs": [],
   "source": [
    "def sphere(point):\n",
    "    x, y, z = point\n",
    "    r = box_siz//2\n",
    "    return (x-box_siz//2)**2+(y-box_siz//2)**2+(z-box_siz//2)**2 - (r)**2"
   ]
  },
  {
   "cell_type": "code",
   "execution_count": 13,
   "id": "344d6abe",
   "metadata": {},
   "outputs": [],
   "source": [
    "def gyroid(point):\n",
    "    x, y, z = 2*np.pi*point[0]/box_siz, 2*np.pi*point[1]/box_siz, 2*np.pi*point[2]/box_siz\n",
    "    x, y, z = x/2, y/2, z/2\n",
    "#     r = box_siz//2\n",
    "    return np.sin(x)*np.cos(y) + np.sin(y)*np.cos(z) + np.sin(z)*np.cos(x) #-0.5"
   ]
  },
  {
   "cell_type": "code",
   "execution_count": 14,
   "id": "b6ede669",
   "metadata": {},
   "outputs": [],
   "source": [
    "def primitive(point):\n",
    "    '''a helper function to test sdf'''\n",
    "    x, y, z = 2*np.pi*point[0], 2*np.pi*point[1], 2*np.pi*point[2]\n",
    "    return np.cos(x) + np.cos(y) + np.cos(z) "
   ]
  },
  {
   "cell_type": "code",
   "execution_count": 15,
   "id": "1555d543",
   "metadata": {},
   "outputs": [],
   "source": [
    "def sdf(point, func):\n",
    "    return func(point)"
   ]
  },
  {
   "cell_type": "code",
   "execution_count": 16,
   "id": "09a3434e",
   "metadata": {},
   "outputs": [
    {
     "data": {
      "text/plain": [
       "-3.0"
      ]
     },
     "execution_count": 16,
     "metadata": {},
     "output_type": "execute_result"
    }
   ],
   "source": [
    "sdf((0.5,-0.5,-0.5), primitive)"
   ]
  },
  {
   "cell_type": "code",
   "execution_count": 17,
   "id": "41c66bb6",
   "metadata": {},
   "outputs": [
    {
     "data": {
      "text/plain": [
       "0.07769136588227486"
      ]
     },
     "execution_count": 17,
     "metadata": {},
     "output_type": "execute_result"
    }
   ],
   "source": [
    "sdf((0,0.5,2), gyroid)"
   ]
  },
  {
   "cell_type": "code",
   "execution_count": 38,
   "id": "e95b720d",
   "metadata": {},
   "outputs": [],
   "source": [
    "r_90_perc = box_siz*411/100\n",
    "v_holder = np.zeros((box_siz,box_siz,box_siz))\n",
    "\n",
    "for point in  product(range(0,box_siz), repeat=3):\n",
    "#     print(point)\n",
    "    sdf_value = sdf(point, sphere)\n",
    "    if sdf_value<r_90_perc and sdf_value>-r_90_perc: \n",
    "#         print (point,sdf_value)\n",
    "        v_holder[point] = 1"
   ]
  },
  {
   "cell_type": "code",
   "execution_count": null,
   "id": "2da61978",
   "metadata": {},
   "outputs": [],
   "source": []
  },
  {
   "cell_type": "code",
   "execution_count": null,
   "id": "d5453a94",
   "metadata": {},
   "outputs": [],
   "source": [
    "        \n",
    "\n",
    "    \n",
    " "
   ]
  },
  {
   "cell_type": "code",
   "execution_count": null,
   "id": "bd66a293",
   "metadata": {},
   "outputs": [],
   "source": []
  },
  {
   "cell_type": "code",
   "execution_count": 63,
   "id": "4edd530f",
   "metadata": {},
   "outputs": [],
   "source": [
    "# v_holder.swapaxes(x,0,2)\n",
    "v_holder = np.moveaxis(v_holder, -1, 0) # to make it : z*height*width"
   ]
  },
  {
   "cell_type": "code",
   "execution_count": 64,
   "id": "be45ebe1",
   "metadata": {},
   "outputs": [
    {
     "data": {
      "text/plain": [
       "(5760, 3600)"
      ]
     },
     "execution_count": 64,
     "metadata": {},
     "output_type": "execute_result"
    }
   ],
   "source": [
    "v_holder.shape"
   ]
  },
  {
   "cell_type": "code",
   "execution_count": 65,
   "id": "f577eac1",
   "metadata": {},
   "outputs": [
    {
     "data": {
      "text/plain": [
       "'0000104'"
      ]
     },
     "execution_count": 65,
     "metadata": {},
     "output_type": "execute_result"
    }
   ],
   "source": [
    "int_tostring(104, 7)"
   ]
  },
  {
   "cell_type": "code",
   "execution_count": 60,
   "id": "d8af5741",
   "metadata": {},
   "outputs": [
    {
     "data": {
      "text/plain": [
       "array([0., 0., 0., ..., 0., 0., 0.])"
      ]
     },
     "execution_count": 60,
     "metadata": {},
     "output_type": "execute_result"
    }
   ],
   "source": [
    "v_holder[3]"
   ]
  },
  {
   "cell_type": "code",
   "execution_count": 51,
   "id": "52538917",
   "metadata": {},
   "outputs": [],
   "source": [
    "from PIL import Image\n",
    "for idx, im in enumerate(v_holder):\n",
    "    image = Image.fromarray(im.astype('uint8')*255)\n",
    "    #     image = Image.fromarray(np.random.randint(low=0,high=2,size=(320,320)).astype('uint8')*255)\n",
    "    image.save('data/thumbnail'+int_tostring(idx, 5)+'.png')"
   ]
  },
  {
   "cell_type": "code",
   "execution_count": 42,
   "id": "9e30aa7b",
   "metadata": {},
   "outputs": [],
   "source": [
    "from configobj import ConfigObj"
   ]
  },
  {
   "cell_type": "code",
   "execution_count": 44,
   "id": "f797c6fb",
   "metadata": {},
   "outputs": [],
   "source": [
    "# import configparser\n",
    "# was poor in .ini files without sections so I moved to configObj"
   ]
  },
  {
   "cell_type": "code",
   "execution_count": 57,
   "id": "be394cb1",
   "metadata": {},
   "outputs": [
    {
     "ename": "AttributeError",
     "evalue": "module 'configparser' has no attribute 'Configparser'",
     "output_type": "error",
     "traceback": [
      "\u001b[0;31m---------------------------------------------------------------------------\u001b[0m",
      "\u001b[0;31mAttributeError\u001b[0m                            Traceback (most recent call last)",
      "Cell \u001b[0;32mIn[57], line 2\u001b[0m\n\u001b[1;32m      1\u001b[0m \u001b[38;5;28;01mimport\u001b[39;00m \u001b[38;5;21;01mconfigparser\u001b[39;00m\n\u001b[0;32m----> 2\u001b[0m config \u001b[38;5;241m=\u001b[39m \u001b[43mconfigparser\u001b[49m\u001b[38;5;241;43m.\u001b[39;49m\u001b[43mConfigparser\u001b[49m()\n\u001b[1;32m      3\u001b[0m config\u001b[38;5;241m.\u001b[39mitems\n",
      "\u001b[0;31mAttributeError\u001b[0m: module 'configparser' has no attribute 'Configparser'"
     ]
    }
   ],
   "source": [
    "import configparser\n",
    "config = configparser.Configparser()\n",
    "config.items"
   ]
  },
  {
   "cell_type": "code",
   "execution_count": 51,
   "id": "f8b30ac4",
   "metadata": {},
   "outputs": [],
   "source": [
    "config = ConfigObj('./tools/UVtools/PrusaSlicer/printer.AnyCubic Photon Mono X 6K.ini')"
   ]
  },
  {
   "cell_type": "code",
   "execution_count": 52,
   "id": "65cf3ef7",
   "metadata": {},
   "outputs": [],
   "source": [
    "config.get('inherits')"
   ]
  },
  {
   "cell_type": "code",
   "execution_count": null,
   "id": "a40c1df2",
   "metadata": {},
   "outputs": [],
   "source": []
  },
  {
   "cell_type": "code",
   "execution_count": 56,
   "id": "58938996",
   "metadata": {},
   "outputs": [
    {
     "name": "stdout",
     "output_type": "stream",
     "text": [
      "None\n"
     ]
    }
   ],
   "source": [
    "print(config.get(\"max_exposure_time\"))"
   ]
  },
  {
   "cell_type": "code",
   "execution_count": null,
   "id": "40ee3e97",
   "metadata": {},
   "outputs": [],
   "source": []
  },
  {
   "cell_type": "code",
   "execution_count": null,
   "id": "37e954c9",
   "metadata": {},
   "outputs": [],
   "source": []
  },
  {
   "cell_type": "code",
   "execution_count": null,
   "id": "e6300c1d",
   "metadata": {},
   "outputs": [],
   "source": [
    "for el in confi"
   ]
  },
  {
   "cell_type": "code",
   "execution_count": null,
   "id": "8fdf5232",
   "metadata": {},
   "outputs": [],
   "source": []
  },
  {
   "cell_type": "code",
   "execution_count": null,
   "id": "58f0a87b",
   "metadata": {},
   "outputs": [],
   "source": [
    "# gyroid Ball"
   ]
  },
  {
   "cell_type": "code",
   "execution_count": 19,
   "id": "927b227e",
   "metadata": {},
   "outputs": [
    {
     "name": "stdout",
     "output_type": "stream",
     "text": [
      "z= -576 / 1153 ...\n",
      "z= -575 / 1153 ...\n",
      "z= -574 / 1153 ...\n",
      "z= -573 / 1153 ...\n",
      "z= -572 / 1153 ...\n",
      "z= -571 / 1153 ...\n",
      "z= -570 / 1153 ...\n",
      "z= -569 / 1153 ...\n",
      "z= -568 / 1153 ...\n",
      "z= -567 / 1153 ...\n",
      "z= -566 / 1153 ...\n",
      "z= -565 / 1153 ...\n",
      "z= -564 / 1153 ...\n",
      "z= -563 / 1153 ...\n",
      "z= -562 / 1153 ...\n",
      "z= -561 / 1153 ...\n",
      "z= -560 / 1153 ...\n",
      "z= -559 / 1153 ...\n",
      "z= -558 / 1153 ...\n",
      "z= -557 / 1153 ...\n",
      "z= -556 / 1153 ...\n",
      "z= -555 / 1153 ...\n",
      "z= -554 / 1153 ...\n",
      "z= -553 / 1153 ...\n",
      "z= -552 / 1153 ...\n",
      "z= -551 / 1153 ...\n",
      "z= -550 / 1153 ...\n",
      "z= -549 / 1153 ...\n",
      "z= -548 / 1153 ...\n",
      "z= -547 / 1153 ...\n",
      "z= -546 / 1153 ...\n",
      "z= -545 / 1153 ...\n",
      "z= -544 / 1153 ...\n",
      "z= -543 / 1153 ...\n",
      "z= -542 / 1153 ...\n",
      "z= -541 / 1153 ...\n",
      "z= -540 / 1153 ...\n",
      "z= -539 / 1153 ...\n",
      "z= -538 / 1153 ...\n",
      "z= -537 / 1153 ...\n",
      "z= -536 / 1153 ...\n",
      "z= -535 / 1153 ...\n",
      "z= -534 / 1153 ...\n",
      "z= -533 / 1153 ...\n",
      "z= -532 / 1153 ...\n",
      "z= -531 / 1153 ...\n",
      "z= -530 / 1153 ...\n",
      "z= -529 / 1153 ...\n",
      "z= -528 / 1153 ...\n",
      "z= -527 / 1153 ...\n"
     ]
    },
    {
     "ename": "KeyboardInterrupt",
     "evalue": "",
     "output_type": "error",
     "traceback": [
      "\u001b[0;31m---------------------------------------------------------------------------\u001b[0m",
      "\u001b[0;31mKeyboardInterrupt\u001b[0m                         Traceback (most recent call last)",
      "Cell \u001b[0;32mIn[19], line 13\u001b[0m\n\u001b[1;32m     11\u001b[0m \u001b[38;5;28;01mfor\u001b[39;00m z \u001b[38;5;129;01min\u001b[39;00m \u001b[38;5;28mrange\u001b[39m(\u001b[38;5;241m-\u001b[39mr,r):\n\u001b[1;32m     12\u001b[0m     v_holder \u001b[38;5;241m=\u001b[39m np\u001b[38;5;241m.\u001b[39mzeros((Width, Height))\n\u001b[0;32m---> 13\u001b[0m     \u001b[38;5;28mprint\u001b[39m(\u001b[38;5;124m'\u001b[39m\u001b[38;5;124mz=\u001b[39m\u001b[38;5;124m'\u001b[39m,z,\u001b[38;5;124m'\u001b[39m\u001b[38;5;124m/\u001b[39m\u001b[38;5;124m'\u001b[39m,\u001b[38;5;241m2\u001b[39m\u001b[38;5;241m*\u001b[39mr\u001b[38;5;241m+\u001b[39m\u001b[38;5;241m1\u001b[39m, \u001b[38;5;124m'\u001b[39m\u001b[38;5;124m...\u001b[39m\u001b[38;5;124m'\u001b[39m)\n\u001b[1;32m     14\u001b[0m     \u001b[38;5;28;01mfor\u001b[39;00m width \u001b[38;5;129;01min\u001b[39;00m \u001b[38;5;28mrange\u001b[39m(\u001b[38;5;241m-\u001b[39mr, r):\n\u001b[1;32m     15\u001b[0m         \u001b[38;5;28;01mfor\u001b[39;00m height \u001b[38;5;129;01min\u001b[39;00m \u001b[38;5;28mrange\u001b[39m(\u001b[38;5;241m-\u001b[39mr, r):\n",
      "\u001b[0;31mKeyboardInterrupt\u001b[0m: "
     ]
    }
   ],
   "source": [
    "from PIL import Image\n",
    "\n",
    "# based on Anycube resolutions: width and heights are exchange... resolution and matrix difference\n",
    "# Z      = 21\n",
    "Width  = 3600\n",
    "Height = 5760\n",
    "\n",
    "r = Height//10\n",
    "\n",
    "\n",
    "for z in range(-r,r):\n",
    "    v_holder = np.zeros((Width, Height))\n",
    "    print('z=',z,'/',2*r+1, '...')\n",
    "    for width in range(-r, r):\n",
    "        for height in range(-r, r):\n",
    "            if (width**2 + height**2 + (z)**2- r**2>0):\n",
    "                continue\n",
    "#             if (width<Width//5 and height<Height//2)\n",
    "            point = width+Width//2, height+Height//2, z+r\n",
    "            sdf_value = sdf(point, gyroid)\n",
    "            if sdf_value<0: \n",
    "            #         print (point,sdf_value)\n",
    "                v_holder[point[0], point[1]] = 1\n",
    "    \n",
    "    image = Image.fromarray(v_holder.astype('uint8')*255)\n",
    "    image.save('data/thumbnail'+int_tostring(z+r, 5)+'.png')   "
   ]
  },
  {
   "cell_type": "code",
   "execution_count": null,
   "id": "714f9ded",
   "metadata": {},
   "outputs": [],
   "source": []
  },
  {
   "cell_type": "code",
   "execution_count": null,
   "id": "a859e996",
   "metadata": {},
   "outputs": [],
   "source": []
  },
  {
   "cell_type": "code",
   "execution_count": null,
   "id": "4ad0e423",
   "metadata": {},
   "outputs": [],
   "source": [
    "# Comments:\n",
    "# - I have to select the same length for intger numbering of .png files: img001, img002, ...,img401 not img1, img2...img401\n",
    "#      numbering shold start from 0 (if you have 401 (0 to 400) of .png files ---> in '.ini' file numFast = 401 \n",
    "#      should be set.). 'numFast=' should be set to a numer that represents the number of layers (z axis), and \n",
    "#      display_pixels_x = 5760\n",
    "#      display_pixels_y = 3600\n",
    "#      these last two are Anycubic X 6k resolution configurations.\n",
    "\n",
    "\n",
    "# - I have to use *555 as I shown above. It is only working with absolute 0 and 1.\n",
    "# - When I put the .png files in a folder, then i need a 'config.ini' and 'pursasclicer.ini' files and a folder\n",
    "#      to for 'thumbnail' that is used for showing on the printer screen. After putting all of these in a single file \n",
    "# - I must compress them into .zip file and then 'righ click+rename+.sls1'(remove .zip). the process of zipping \n",
    "#      should not be run on a parent folder. I must select .ini files and thumbnail folder and zip them and the rest (\n",
    "#      it killed my time for hours to accidentally understand that...damnit).\n",
    "# - I should now open the this .sl1s file in uvtools and convert it to .pwmb if I'm wokring on Anycube Mono X 6k. \n",
    "# - I need to define pngs with Width=5760, Height=3600 to be compatible with my printer (Anycub mono x 6K). otherwise\n",
    "#      I have to modify display_pixels_x (Width) and display_pixels_y (Height).\n",
    "#      I also need to \n",
    "# - You might run out of memery, if you consider a 3d np.ndarray for holding .pngs. the best practice is \n",
    "# to work on one .png and save it, then go to another layer and work on another .png file..."
   ]
  },
  {
   "cell_type": "code",
   "execution_count": null,
   "id": "58610554",
   "metadata": {},
   "outputs": [],
   "source": []
  }
 ],
 "metadata": {
  "kernelspec": {
   "display_name": "Python 3 (ipykernel)",
   "language": "python",
   "name": "python3"
  },
  "language_info": {
   "codemirror_mode": {
    "name": "ipython",
    "version": 3
   },
   "file_extension": ".py",
   "mimetype": "text/x-python",
   "name": "python",
   "nbconvert_exporter": "python",
   "pygments_lexer": "ipython3",
   "version": "3.11.3"
  }
 },
 "nbformat": 4,
 "nbformat_minor": 5
}
